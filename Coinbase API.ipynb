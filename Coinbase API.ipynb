{
  "nbformat": 4,
  "nbformat_minor": 0,
  "metadata": {
    "colab": {
      "name": "Untitled2.ipynb",
      "provenance": [],
      "authorship_tag": "ABX9TyPJvzfyec+wpKsMM6QGFpUB",
      "include_colab_link": true
    },
    "kernelspec": {
      "name": "python3",
      "display_name": "Python 3"
    },
    "language_info": {
      "name": "python"
    }
  },
  "cells": [
    {
      "cell_type": "markdown",
      "metadata": {
        "id": "view-in-github",
        "colab_type": "text"
      },
      "source": [
        "<a href=\"https://colab.research.google.com/github/TracyMichael/FinTech-Spring-Summer-/blob/main/Coinbase%20API.ipynb\" target=\"_parent\"><img src=\"https://colab.research.google.com/assets/colab-badge.svg\" alt=\"Open In Colab\"/></a>"
      ]
    },
    {
      "cell_type": "code",
      "execution_count": null,
      "metadata": {
        "id": "I_jrh418_Qbg"
      },
      "outputs": [],
      "source": [
        "# {API URL} https://api.exchange.coinbase.com/accounts \n",
        "\n",
        "import requests\n",
        "from dotenv import load_dotenv\n",
        "load_dotenv()\n",
        "import hmac, hashlib, time, requests\n",
        "from requests.auth import AuthBase\n",
        "import json\n",
        "\n",
        "\n",
        "\n",
        "# Before implementation, set environmental variables with the names API_KEY and SECRET\n",
        "API_URL = 'https://api.coinbase.com'\n",
        "API_KEY = 'API_KEY'\n",
        "SECRET = 'SECRET'\n",
        "CB_ACCESS_TIMESTAMP = str(int(time.time()))\n",
        "\n",
        "requestPath = '/v2/accounts?limit=100'\n",
        "\n",
        "# Create custom authentication for Coinbase API\n",
        "class CoinbaseWalletAuth(AuthBase):\n",
        "    def __init__(self, api_key, secret_key):\n",
        "        self.api_key = api_key\n",
        "        self.secret_key = secret_key\n",
        "\n",
        "    def __call__(self, request):\n",
        "        message = CB_ACCESS_TIMESTAMP + request.method + request.path_url + (request.body or '')\n",
        "        signature = hmac.new(bytes(self.secret_key, 'utf-8'), bytes(message, 'utf-8'), hashlib.sha256).hexdigest()\n",
        "\n",
        "        request.headers.update({\n",
        "            'CB-ACCESS-SIGN': signature,\n",
        "            'CB-ACCESS-TIMESTAMP': CB_ACCESS_TIMESTAMP,\n",
        "            'CB-ACCESS-KEY': self.api_key,\n",
        "            'CB-VERSION': '2015-07-22'\n",
        "        })\n",
        "        return request\n",
        "\n",
        "auth = CoinbaseWalletAuth(API_KEY, SECRET)\n",
        "\n",
        "# Get request\n",
        "r = requests.get(API_URL + requestPath, auth=auth)\n",
        "\n",
        "if r.status_code == 200:\n",
        "   accounts = r.json() ['data']\n",
        "   for account in accounts:\n",
        "       if float(account['balance']['amount']) > 0:\n",
        "          print(\"{}: {} ({})\".format(account['currency'], account['balance']['amount'], account['native_balance']['amount']))"
      ]
    }
  ]
}